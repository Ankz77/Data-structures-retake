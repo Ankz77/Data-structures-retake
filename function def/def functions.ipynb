{
 "cells": [
  {
   "cell_type": "code",
   "execution_count": 1,
   "metadata": {},
   "outputs": [
    {
     "name": "stdout",
     "output_type": "stream",
     "text": [
      "Hello from a function\n"
     ]
    }
   ],
   "source": [
    "def my_function():\n",
    "    print(\"Hello from a function\")\n",
    "\n",
    "# call function by function name followed by parenthesis\n",
    "my_function()"
   ]
  },
  {
   "cell_type": "code",
   "execution_count": 7,
   "metadata": {},
   "outputs": [
    {
     "name": "stdout",
     "output_type": "stream",
     "text": [
      "Emily Refsnes\n",
      "Tobias Refsnes\n",
      "Linus Refsnes\n",
      "\n",
      " Refsnes\n",
      "Emil is a Teacher\n"
     ]
    }
   ],
   "source": [
    "# arguments\n",
    "def my_function(fname):\n",
    "    print(fname +\" Refsnes\")\n",
    "\n",
    "my_function(\"Emily\")\n",
    "my_function(\"Tobias\")\n",
    "my_function(\"Linus\")\n",
    "my_function(\"\\n\")\n",
    "\n",
    "# the function can also be called with a number of arguments\n",
    "def Myname(_name, job):\n",
    "    print(f\"{_name} is a {job}\")\n",
    "\n",
    "Myname(\"Emil\", \"Teacher\")"
   ]
  },
  {
   "attachments": {},
   "cell_type": "markdown",
   "metadata": {},
   "source": [
    "# Arbitrary Arguments, *args\n",
    "\n",
    "these allow a parameter to store several arguments."
   ]
  },
  {
   "cell_type": "code",
   "execution_count": 8,
   "metadata": {},
   "outputs": [
    {
     "name": "stdout",
     "output_type": "stream",
     "text": [
      "The youngest child is Penny\n"
     ]
    }
   ],
   "source": [
    "# *kids is the parameter to arguments stored \n",
    "# stored in call function ourNames\n",
    "\n",
    "def ourNames(*kids):\n",
    "    print(\"The youngest child is\", kids[3])\n",
    "\n",
    "ourNames(\"Oscar\", \"Tobias\", \"Linus\", \"Penny\")"
   ]
  },
  {
   "cell_type": "code",
   "execution_count": 10,
   "metadata": {},
   "outputs": [
    {
     "name": "stdout",
     "output_type": "stream",
     "text": [
      "The young child is Aisha\n"
     ]
    }
   ],
   "source": [
    "# Keyword Arguments\n",
    "'''\n",
    "This is where arguments are\n",
    "sent with key=value syntax\n",
    "\n",
    "This way the argument order doesnot matter.  \n",
    "'''\n",
    "\n",
    "def my_function(child1, child4, child6):\n",
    "    print(f\"The young child is {child4}\")\n",
    "\n",
    "my_function(child4=\"Aisha\", child6=\"Lisa\", child1=\"Elisha\")"
   ]
  },
  {
   "cell_type": "code",
   "execution_count": 1,
   "metadata": {},
   "outputs": [
    {
     "name": "stdout",
     "output_type": "stream",
     "text": [
      "His last name is Aine\n"
     ]
    }
   ],
   "source": [
    "# Arbitrary keyword Arguments ie **kwargs\n",
    "\n",
    "def my_friends(**names):\n",
    "    print(\"His last name is \"+names[\"fname\"])\n",
    "\n",
    "my_friends(fname=\"Aine\", lname=\"Muganzi\")"
   ]
  },
  {
   "attachments": {},
   "cell_type": "markdown",
   "metadata": {},
   "source": [
    "# Default parameter value\n",
    "\n",
    "This is where value in parameter\n",
    "is already given. When function is called,\n",
    "it uses value as default if the function\n",
    "is called without argument.\n"
   ]
  },
  {
   "cell_type": "code",
   "execution_count": 2,
   "metadata": {},
   "outputs": [
    {
     "name": "stdout",
     "output_type": "stream",
     "text": [
      "I'm going to Norway\n",
      "I'm going to Uganda\n"
     ]
    }
   ],
   "source": [
    "# Example\n",
    "def my_function(country=\"Norway\"):\n",
    "    print(f\"I'm going to {country}\")\n",
    "\n",
    "my_function()\n",
    "\n",
    "#with argument specified\n",
    "my_function(\"Uganda\")"
   ]
  },
  {
   "attachments": {},
   "cell_type": "markdown",
   "metadata": {},
   "source": [
    "# Passing a list as an argument."
   ]
  },
  {
   "cell_type": "code",
   "execution_count": 7,
   "metadata": {},
   "outputs": [
    {
     "name": "stdout",
     "output_type": "stream",
     "text": [
      "apple\n",
      "banana\n",
      "guavas\n",
      "grapes\n",
      "\n",
      "\n",
      "15\n",
      "10\n",
      "20\n"
     ]
    }
   ],
   "source": [
    "def my_function(food):\n",
    "\n",
    "    for x in food:\n",
    "        print(x)\n",
    "\n",
    "fruits = ['apple', 'banana', 'guavas', 'grapes']\n",
    "my_function(fruits)\n",
    "print(\"\\n\")\n",
    "\n",
    "# we can use return statement to let a function return a value.\n",
    "def myNum(z):\n",
    "    return 5 * z\n",
    "\n",
    "print(myNum(3))\n",
    "print(myNum(2))\n",
    "print(myNum(4))\n"
   ]
  },
  {
   "cell_type": "code",
   "execution_count": null,
   "metadata": {},
   "outputs": [],
   "source": []
  }
 ],
 "metadata": {
  "kernelspec": {
   "display_name": "Python 3",
   "language": "python",
   "name": "python3"
  },
  "language_info": {
   "codemirror_mode": {
    "name": "ipython",
    "version": 3
   },
   "file_extension": ".py",
   "mimetype": "text/x-python",
   "name": "python",
   "nbconvert_exporter": "python",
   "pygments_lexer": "ipython3",
   "version": "3.10.5"
  },
  "orig_nbformat": 4,
  "vscode": {
   "interpreter": {
    "hash": "a9cff5a362bc38ef45d817ae74b1af54d6a076e3d773891282bce078b815ba34"
   }
  }
 },
 "nbformat": 4,
 "nbformat_minor": 2
}
