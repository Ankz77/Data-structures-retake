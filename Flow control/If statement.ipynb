{
 "cells": [
  {
   "cell_type": "code",
   "execution_count": 4,
   "metadata": {},
   "outputs": [
    {
     "name": "stdout",
     "output_type": "stream",
     "text": [
      "Hi, Alice.\n"
     ]
    }
   ],
   "source": [
    "name = 'Alice'\n",
    "\n",
    "if name == 'Alice':\n",
    "    print(\"Hi, Alice.\")\n",
    "else:\n",
    "    print(\"Hello, stranger!\")"
   ]
  },
  {
   "cell_type": "code",
   "execution_count": 9,
   "metadata": {},
   "outputs": [
    {
     "name": "stdout",
     "output_type": "stream",
     "text": [
      "You're not Alice, Grannie.\n"
     ]
    }
   ],
   "source": [
    "# elif statement\n",
    "name = 'Ali'\n",
    "age = int(input(\"Please enter here: \"))\n",
    "\n",
    "if name == 'Alice':\n",
    "    print(\"Hi, Alice.\")\n",
    "elif age < 12:\n",
    "    print(\"You are not Alice, Kiddo.\")\n",
    "elif age > 80:\n",
    "    print(\"You're not Alice, Grannie.\")"
   ]
  }
 ],
 "metadata": {
  "kernelspec": {
   "display_name": "Python 3",
   "language": "python",
   "name": "python3"
  },
  "language_info": {
   "codemirror_mode": {
    "name": "ipython",
    "version": 3
   },
   "file_extension": ".py",
   "mimetype": "text/x-python",
   "name": "python",
   "nbconvert_exporter": "python",
   "pygments_lexer": "ipython3",
   "version": "3.10.5"
  },
  "orig_nbformat": 4,
  "vscode": {
   "interpreter": {
    "hash": "a9cff5a362bc38ef45d817ae74b1af54d6a076e3d773891282bce078b815ba34"
   }
  }
 },
 "nbformat": 4,
 "nbformat_minor": 2
}
